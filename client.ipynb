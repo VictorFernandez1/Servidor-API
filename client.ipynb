{
 "cells": [
  {
   "cell_type": "markdown",
   "id": "abc506da",
   "metadata": {},
   "source": [
    "Jupyter para trabajar con servidor FASTAPI"
   ]
  },
  {
   "cell_type": "code",
   "execution_count": 1,
   "id": "39d0bfbe",
   "metadata": {},
   "outputs": [],
   "source": [
    "import requests\n",
    "\n",
    "url = \"http://ANT-VICTORF:8000\""
   ]
  },
  {
   "cell_type": "code",
   "execution_count": 2,
   "id": "8ba00d42",
   "metadata": {},
   "outputs": [
    {
     "name": "stdout",
     "output_type": "stream",
     "text": [
      "Available models on the server: ['TomateFermentado', 'TomateFrito']\n"
     ]
    }
   ],
   "source": [
    "# Now, let´s get the list of available models from the server\n",
    "try:\n",
    "    list_models_url = url + \"/list-models/\"\n",
    "    response = requests.get(list_models_url)\n",
    "    models = response.json().get(\"models\", [])\n",
    "    print(\"Available models on the server:\", models)\n",
    "except Exception as e:\n",
    "    print(f\"Error connecting to the server: {e}\")\n",
    "    exit()"
   ]
  },
  {
   "cell_type": "code",
   "execution_count": 3,
   "id": "1443513f",
   "metadata": {},
   "outputs": [
    {
     "name": "stdout",
     "output_type": "stream",
     "text": [
      "Selecting model: TomateFermentado\n"
     ]
    }
   ],
   "source": [
    "model_name = models[0]\n",
    "print(f\"Selecting model: {model_name}\")"
   ]
  },
  {
   "cell_type": "code",
   "execution_count": 4,
   "id": "2f188e40",
   "metadata": {},
   "outputs": [
    {
     "name": "stdout",
     "output_type": "stream",
     "text": [
      "Model TomateFermentado selected\n"
     ]
    }
   ],
   "source": [
    "# Now, we will select the first model from the list\n",
    "\n",
    "model_name = models[0]\n",
    "\n",
    "try:\n",
    "    select_model_url = url + \"/select-model/\"\n",
    "    response = requests.post(select_model_url, data={\"model_name\": model_name})\n",
    "\n",
    "    print(response.json()[\"message\"])\n",
    "except Exception as e:\n",
    "    print(f\"Error connecting to the server: {e}\")\n",
    "    exit()\n"
   ]
  },
  {
   "cell_type": "code",
   "execution_count": null,
   "id": "69530729",
   "metadata": {},
   "outputs": [
    {
     "name": "stdout",
     "output_type": "stream",
     "text": [
      "Carpeta seleccionada: C:/Users/Victor Fernandez/Desktop/Folder pruebas\n",
      "Ciclo 1: unknown (Probabilidad: 1.00)\n",
      "Ciclo 2: unknown (Probabilidad: 1.00)\n",
      "Ciclo 3: unknown (Probabilidad: 1.00)\n"
     ]
    }
   ],
   "source": [
    "\n",
    "import numpy as np\n",
    "from PreprocesaCSV import open_folder_dialog\n",
    "from PreprocesaCSV import get_files_in_folder\n",
    "\n",
    "folder1 = open_folder_dialog()  # Abre el cuadro de diálogo para seleccionar carpetas. Ojo! se abre al fondo de todas las pestañas.\n",
    "file_paths = get_files_in_folder(folder1)  # Obtiene los archivos en la carpeta seleccionada\n",
    "\n",
    "# We will send the first CSV file found in the folder\n",
    "csv_files = [f for f in file_paths if f.endswith('.csv')]\n",
    "if not csv_files:\n",
    "    print(\"No CSV files found in the selected folder.\")\n",
    "    exit()\n",
    "\n",
    "file_path = csv_files[0]\n",
    "\n",
    "\n",
    "# Open a CSV file to send\n",
    "with open(file_path, \"rb\") as f:\n",
    "    file= {\"file\": (\"example.csv\", f, \"text/csv\")}\n",
    "\n",
    "    try:\n",
    "        file_upload_url = url + \"/upload-csv/\"\n",
    "        response = requests.post((file_upload_url), files=file)\n",
    "        # We receive the predictions and predicted labels from the server.\n",
    "        predictions = response.json()[\"predictions\"]\n",
    "        predicted_labels = response.json()[\"predicted_labels\"]\n",
    "\n",
    "        max_probs = [max(row) for row in predictions]\n",
    "\n",
    "        for i, (label, prob) in enumerate(zip(predicted_labels, max_probs)):\n",
    "            print(f\"Ciclo {i+1}: {label} (Probabilidad: {prob:.2f})\")\n",
    "    except Exception as e:\n",
    "        print(f\"Error connecting to the server: {e}\")\n",
    "        exit()\n"
   ]
  }
 ],
 "metadata": {
  "kernelspec": {
   "display_name": "Python 3",
   "language": "python",
   "name": "python3"
  },
  "language_info": {
   "codemirror_mode": {
    "name": "ipython",
    "version": 3
   },
   "file_extension": ".py",
   "mimetype": "text/x-python",
   "name": "python",
   "nbconvert_exporter": "python",
   "pygments_lexer": "ipython3",
   "version": "3.13.1"
  }
 },
 "nbformat": 4,
 "nbformat_minor": 5
}
